{
 "cells": [
  {
   "cell_type": "code",
   "execution_count": 60,
   "metadata": {},
   "outputs": [
    {
     "name": "stdout",
     "output_type": "stream",
     "text": [
      "Requirement already satisfied: numpy==1.18.1 in /home/giacca/anaconda3/lib/python3.7/site-packages (from -r requirements.txt (line 1)) (1.18.1)\n",
      "Requirement already satisfied: pandas==1.0.1 in /home/giacca/anaconda3/lib/python3.7/site-packages (from -r requirements.txt (line 2)) (1.0.1)\n",
      "Requirement already satisfied: scikit-learn==0.22.1 in /home/giacca/anaconda3/lib/python3.7/site-packages (from -r requirements.txt (line 3)) (0.22.1)\n",
      "Requirement already satisfied: matplotlib==3.1.3 in /home/giacca/anaconda3/lib/python3.7/site-packages (from -r requirements.txt (line 4)) (3.1.3)\n",
      "Requirement already satisfied: seaborn==0.10.0 in /home/giacca/anaconda3/lib/python3.7/site-packages (from -r requirements.txt (line 5)) (0.10.0)\n",
      "Requirement already satisfied: python-dateutil>=2.6.1 in /home/giacca/anaconda3/lib/python3.7/site-packages (from pandas==1.0.1->-r requirements.txt (line 2)) (2.8.1)\n",
      "Requirement already satisfied: pytz>=2017.2 in /home/giacca/anaconda3/lib/python3.7/site-packages (from pandas==1.0.1->-r requirements.txt (line 2)) (2019.3)\n",
      "Requirement already satisfied: joblib>=0.11 in /home/giacca/anaconda3/lib/python3.7/site-packages (from scikit-learn==0.22.1->-r requirements.txt (line 3)) (0.14.1)\n",
      "Requirement already satisfied: scipy>=0.17.0 in /home/giacca/anaconda3/lib/python3.7/site-packages (from scikit-learn==0.22.1->-r requirements.txt (line 3)) (1.4.1)\n",
      "Requirement already satisfied: cycler>=0.10 in /home/giacca/anaconda3/lib/python3.7/site-packages (from matplotlib==3.1.3->-r requirements.txt (line 4)) (0.10.0)\n",
      "Requirement already satisfied: pyparsing!=2.0.4,!=2.1.2,!=2.1.6,>=2.0.1 in /home/giacca/anaconda3/lib/python3.7/site-packages (from matplotlib==3.1.3->-r requirements.txt (line 4)) (2.4.6)\n",
      "Requirement already satisfied: kiwisolver>=1.0.1 in /home/giacca/anaconda3/lib/python3.7/site-packages (from matplotlib==3.1.3->-r requirements.txt (line 4)) (1.1.0)\n",
      "Requirement already satisfied: six>=1.5 in /home/giacca/anaconda3/lib/python3.7/site-packages (from python-dateutil>=2.6.1->pandas==1.0.1->-r requirements.txt (line 2)) (1.14.0)\n",
      "Requirement already satisfied: setuptools in /home/giacca/anaconda3/lib/python3.7/site-packages (from kiwisolver>=1.0.1->matplotlib==3.1.3->-r requirements.txt (line 4)) (45.2.0.post20200210)\n",
      "Note: you may need to restart the kernel to use updated packages.\n"
     ]
    }
   ],
   "source": [
    "pip install -r requirements.txt"
   ]
  },
  {
   "cell_type": "code",
   "execution_count": 61,
   "metadata": {},
   "outputs": [],
   "source": [
    "import numpy as np\n",
    "import pandas as pd\n",
    "import datetime as dt\n",
    "import seaborn as sns\n",
    "import matplotlib.pyplot as plt\n",
    "\n",
    "from sklearn.preprocessing import LabelEncoder\n",
    "from sklearn.metrics import plot_confusion_matrix\n",
    "\n",
    "%matplotlib inline"
   ]
  },
  {
   "cell_type": "code",
   "execution_count": 62,
   "metadata": {},
   "outputs": [
    {
     "name": "stdout",
     "output_type": "stream",
     "text": [
      "<class 'pandas.core.frame.DataFrame'>\n",
      "RangeIndex: 70736 entries, 0 to 70735\n",
      "Data columns (total 14 columns):\n",
      " #   Column          Non-Null Count  Dtype  \n",
      "---  ------          --------------  -----  \n",
      " 0   No-show         70736 non-null  object \n",
      " 1   PatientId       70736 non-null  float64\n",
      " 2   AppointmentID   70736 non-null  int64  \n",
      " 3   Gender          70736 non-null  object \n",
      " 4   ScheduledDay    70736 non-null  object \n",
      " 5   AppointmentDay  70736 non-null  object \n",
      " 6   Age             70736 non-null  int64  \n",
      " 7   Neighbourhood   70736 non-null  object \n",
      " 8   Scholarship     70736 non-null  int64  \n",
      " 9   Hipertension    70736 non-null  int64  \n",
      " 10  Diabetes        70736 non-null  int64  \n",
      " 11  Alcoholism      70736 non-null  int64  \n",
      " 12  Handcap         70736 non-null  int64  \n",
      " 13  SMS_received    70736 non-null  int64  \n",
      "dtypes: float64(1), int64(8), object(5)\n",
      "memory usage: 7.6+ MB\n",
      "<class 'pandas.core.frame.DataFrame'>\n",
      "RangeIndex: 17685 entries, 0 to 17684\n",
      "Data columns (total 14 columns):\n",
      " #   Column          Non-Null Count  Dtype  \n",
      "---  ------          --------------  -----  \n",
      " 0   No-show         17685 non-null  object \n",
      " 1   PatientId       17685 non-null  float64\n",
      " 2   AppointmentID   17685 non-null  int64  \n",
      " 3   Gender          17685 non-null  object \n",
      " 4   ScheduledDay    17685 non-null  object \n",
      " 5   AppointmentDay  17685 non-null  object \n",
      " 6   Age             17685 non-null  int64  \n",
      " 7   Neighbourhood   17685 non-null  object \n",
      " 8   Scholarship     17685 non-null  int64  \n",
      " 9   Hipertension    17685 non-null  int64  \n",
      " 10  Diabetes        17685 non-null  int64  \n",
      " 11  Alcoholism      17685 non-null  int64  \n",
      " 12  Handcap         17685 non-null  int64  \n",
      " 13  SMS_received    17685 non-null  int64  \n",
      "dtypes: float64(1), int64(8), object(5)\n",
      "memory usage: 1.9+ MB\n"
     ]
    }
   ],
   "source": [
    "train = pd.read_csv(\"train.csv\")\n",
    "train.info()\n",
    "test = pd.read_csv(\"test.csv\")\n",
    "test.info()"
   ]
  },
  {
   "cell_type": "code",
   "execution_count": 63,
   "metadata": {},
   "outputs": [
    {
     "data": {
      "text/html": [
       "<div>\n",
       "<style scoped>\n",
       "    .dataframe tbody tr th:only-of-type {\n",
       "        vertical-align: middle;\n",
       "    }\n",
       "\n",
       "    .dataframe tbody tr th {\n",
       "        vertical-align: top;\n",
       "    }\n",
       "\n",
       "    .dataframe thead th {\n",
       "        text-align: right;\n",
       "    }\n",
       "</style>\n",
       "<table border=\"1\" class=\"dataframe\">\n",
       "  <thead>\n",
       "    <tr style=\"text-align: right;\">\n",
       "      <th></th>\n",
       "      <th>No-show</th>\n",
       "      <th>PatientId</th>\n",
       "      <th>AppointmentID</th>\n",
       "      <th>Gender</th>\n",
       "      <th>ScheduledDay</th>\n",
       "      <th>AppointmentDay</th>\n",
       "      <th>Age</th>\n",
       "      <th>Neighbourhood</th>\n",
       "      <th>Scholarship</th>\n",
       "      <th>Hipertension</th>\n",
       "      <th>Diabetes</th>\n",
       "      <th>Alcoholism</th>\n",
       "      <th>Handcap</th>\n",
       "      <th>SMS_received</th>\n",
       "    </tr>\n",
       "  </thead>\n",
       "  <tbody>\n",
       "    <tr>\n",
       "      <th>0</th>\n",
       "      <td>No</td>\n",
       "      <td>5.554332e+13</td>\n",
       "      <td>5686868</td>\n",
       "      <td>F</td>\n",
       "      <td>2016-05-11T14:12:13Z</td>\n",
       "      <td>2016-05-13T00:00:00Z</td>\n",
       "      <td>55</td>\n",
       "      <td>JARDIM CAMBURI</td>\n",
       "      <td>0</td>\n",
       "      <td>0</td>\n",
       "      <td>0</td>\n",
       "      <td>0</td>\n",
       "      <td>0</td>\n",
       "      <td>0</td>\n",
       "    </tr>\n",
       "    <tr>\n",
       "      <th>1</th>\n",
       "      <td>No</td>\n",
       "      <td>4.955162e+14</td>\n",
       "      <td>5668152</td>\n",
       "      <td>F</td>\n",
       "      <td>2016-05-06T08:34:32Z</td>\n",
       "      <td>2016-05-06T00:00:00Z</td>\n",
       "      <td>47</td>\n",
       "      <td>RESISTÊNCIA</td>\n",
       "      <td>0</td>\n",
       "      <td>0</td>\n",
       "      <td>0</td>\n",
       "      <td>0</td>\n",
       "      <td>0</td>\n",
       "      <td>0</td>\n",
       "    </tr>\n",
       "    <tr>\n",
       "      <th>2</th>\n",
       "      <td>No</td>\n",
       "      <td>5.541574e+13</td>\n",
       "      <td>5751493</td>\n",
       "      <td>F</td>\n",
       "      <td>2016-05-31T10:13:24Z</td>\n",
       "      <td>2016-05-31T00:00:00Z</td>\n",
       "      <td>56</td>\n",
       "      <td>JESUS DE NAZARETH</td>\n",
       "      <td>1</td>\n",
       "      <td>1</td>\n",
       "      <td>1</td>\n",
       "      <td>0</td>\n",
       "      <td>0</td>\n",
       "      <td>0</td>\n",
       "    </tr>\n",
       "    <tr>\n",
       "      <th>3</th>\n",
       "      <td>No</td>\n",
       "      <td>7.445846e+11</td>\n",
       "      <td>5732987</td>\n",
       "      <td>F</td>\n",
       "      <td>2016-05-24T13:07:59Z</td>\n",
       "      <td>2016-06-01T00:00:00Z</td>\n",
       "      <td>66</td>\n",
       "      <td>SÃO PEDRO</td>\n",
       "      <td>0</td>\n",
       "      <td>0</td>\n",
       "      <td>0</td>\n",
       "      <td>0</td>\n",
       "      <td>1</td>\n",
       "      <td>1</td>\n",
       "    </tr>\n",
       "    <tr>\n",
       "      <th>4</th>\n",
       "      <td>No</td>\n",
       "      <td>5.395177e+13</td>\n",
       "      <td>5575893</td>\n",
       "      <td>F</td>\n",
       "      <td>2016-04-13T07:42:07Z</td>\n",
       "      <td>2016-05-13T00:00:00Z</td>\n",
       "      <td>0</td>\n",
       "      <td>JABOUR</td>\n",
       "      <td>0</td>\n",
       "      <td>0</td>\n",
       "      <td>0</td>\n",
       "      <td>0</td>\n",
       "      <td>0</td>\n",
       "      <td>0</td>\n",
       "    </tr>\n",
       "    <tr>\n",
       "      <th>5</th>\n",
       "      <td>Yes</td>\n",
       "      <td>3.995688e+13</td>\n",
       "      <td>5638797</td>\n",
       "      <td>F</td>\n",
       "      <td>2016-04-29T08:25:38Z</td>\n",
       "      <td>2016-05-09T00:00:00Z</td>\n",
       "      <td>16</td>\n",
       "      <td>NOVA PALESTINA</td>\n",
       "      <td>0</td>\n",
       "      <td>0</td>\n",
       "      <td>0</td>\n",
       "      <td>0</td>\n",
       "      <td>0</td>\n",
       "      <td>0</td>\n",
       "    </tr>\n",
       "    <tr>\n",
       "      <th>6</th>\n",
       "      <td>No</td>\n",
       "      <td>5.898862e+13</td>\n",
       "      <td>5729512</td>\n",
       "      <td>F</td>\n",
       "      <td>2016-05-24T07:35:13Z</td>\n",
       "      <td>2016-05-31T00:00:00Z</td>\n",
       "      <td>55</td>\n",
       "      <td>GRANDE VITÓRIA</td>\n",
       "      <td>0</td>\n",
       "      <td>1</td>\n",
       "      <td>0</td>\n",
       "      <td>0</td>\n",
       "      <td>0</td>\n",
       "      <td>1</td>\n",
       "    </tr>\n",
       "    <tr>\n",
       "      <th>7</th>\n",
       "      <td>No</td>\n",
       "      <td>4.553518e+12</td>\n",
       "      <td>5682104</td>\n",
       "      <td>M</td>\n",
       "      <td>2016-05-10T15:46:44Z</td>\n",
       "      <td>2016-05-17T00:00:00Z</td>\n",
       "      <td>46</td>\n",
       "      <td>SÃO CRISTÓVÃO</td>\n",
       "      <td>0</td>\n",
       "      <td>0</td>\n",
       "      <td>0</td>\n",
       "      <td>0</td>\n",
       "      <td>0</td>\n",
       "      <td>0</td>\n",
       "    </tr>\n",
       "    <tr>\n",
       "      <th>8</th>\n",
       "      <td>No</td>\n",
       "      <td>2.167159e+11</td>\n",
       "      <td>5682043</td>\n",
       "      <td>F</td>\n",
       "      <td>2016-05-10T15:39:28Z</td>\n",
       "      <td>2016-05-16T00:00:00Z</td>\n",
       "      <td>19</td>\n",
       "      <td>NOVA PALESTINA</td>\n",
       "      <td>0</td>\n",
       "      <td>0</td>\n",
       "      <td>0</td>\n",
       "      <td>0</td>\n",
       "      <td>0</td>\n",
       "      <td>0</td>\n",
       "    </tr>\n",
       "    <tr>\n",
       "      <th>9</th>\n",
       "      <td>No</td>\n",
       "      <td>9.777815e+12</td>\n",
       "      <td>5665541</td>\n",
       "      <td>F</td>\n",
       "      <td>2016-05-05T14:43:43Z</td>\n",
       "      <td>2016-05-18T00:00:00Z</td>\n",
       "      <td>29</td>\n",
       "      <td>SANTO ANDRÉ</td>\n",
       "      <td>1</td>\n",
       "      <td>0</td>\n",
       "      <td>0</td>\n",
       "      <td>0</td>\n",
       "      <td>0</td>\n",
       "      <td>0</td>\n",
       "    </tr>\n",
       "  </tbody>\n",
       "</table>\n",
       "</div>"
      ],
      "text/plain": [
       "  No-show     PatientId  AppointmentID Gender          ScheduledDay  \\\n",
       "0      No  5.554332e+13        5686868      F  2016-05-11T14:12:13Z   \n",
       "1      No  4.955162e+14        5668152      F  2016-05-06T08:34:32Z   \n",
       "2      No  5.541574e+13        5751493      F  2016-05-31T10:13:24Z   \n",
       "3      No  7.445846e+11        5732987      F  2016-05-24T13:07:59Z   \n",
       "4      No  5.395177e+13        5575893      F  2016-04-13T07:42:07Z   \n",
       "5     Yes  3.995688e+13        5638797      F  2016-04-29T08:25:38Z   \n",
       "6      No  5.898862e+13        5729512      F  2016-05-24T07:35:13Z   \n",
       "7      No  4.553518e+12        5682104      M  2016-05-10T15:46:44Z   \n",
       "8      No  2.167159e+11        5682043      F  2016-05-10T15:39:28Z   \n",
       "9      No  9.777815e+12        5665541      F  2016-05-05T14:43:43Z   \n",
       "\n",
       "         AppointmentDay  Age      Neighbourhood  Scholarship  Hipertension  \\\n",
       "0  2016-05-13T00:00:00Z   55     JARDIM CAMBURI            0             0   \n",
       "1  2016-05-06T00:00:00Z   47        RESISTÊNCIA            0             0   \n",
       "2  2016-05-31T00:00:00Z   56  JESUS DE NAZARETH            1             1   \n",
       "3  2016-06-01T00:00:00Z   66          SÃO PEDRO            0             0   \n",
       "4  2016-05-13T00:00:00Z    0             JABOUR            0             0   \n",
       "5  2016-05-09T00:00:00Z   16     NOVA PALESTINA            0             0   \n",
       "6  2016-05-31T00:00:00Z   55     GRANDE VITÓRIA            0             1   \n",
       "7  2016-05-17T00:00:00Z   46      SÃO CRISTÓVÃO            0             0   \n",
       "8  2016-05-16T00:00:00Z   19     NOVA PALESTINA            0             0   \n",
       "9  2016-05-18T00:00:00Z   29        SANTO ANDRÉ            1             0   \n",
       "\n",
       "   Diabetes  Alcoholism  Handcap  SMS_received  \n",
       "0         0           0        0             0  \n",
       "1         0           0        0             0  \n",
       "2         1           0        0             0  \n",
       "3         0           0        1             1  \n",
       "4         0           0        0             0  \n",
       "5         0           0        0             0  \n",
       "6         0           0        0             1  \n",
       "7         0           0        0             0  \n",
       "8         0           0        0             0  \n",
       "9         0           0        0             0  "
      ]
     },
     "execution_count": 63,
     "metadata": {},
     "output_type": "execute_result"
    }
   ],
   "source": [
    "train.head(10)"
   ]
  },
  {
   "cell_type": "code",
   "execution_count": 64,
   "metadata": {},
   "outputs": [
    {
     "data": {
      "text/html": [
       "<div>\n",
       "<style scoped>\n",
       "    .dataframe tbody tr th:only-of-type {\n",
       "        vertical-align: middle;\n",
       "    }\n",
       "\n",
       "    .dataframe tbody tr th {\n",
       "        vertical-align: top;\n",
       "    }\n",
       "\n",
       "    .dataframe thead th {\n",
       "        text-align: right;\n",
       "    }\n",
       "</style>\n",
       "<table border=\"1\" class=\"dataframe\">\n",
       "  <thead>\n",
       "    <tr style=\"text-align: right;\">\n",
       "      <th></th>\n",
       "      <th>PatientId</th>\n",
       "      <th>AppointmentID</th>\n",
       "      <th>Age</th>\n",
       "      <th>Scholarship</th>\n",
       "      <th>Hipertension</th>\n",
       "      <th>Diabetes</th>\n",
       "      <th>Alcoholism</th>\n",
       "      <th>Handcap</th>\n",
       "      <th>SMS_received</th>\n",
       "    </tr>\n",
       "  </thead>\n",
       "  <tbody>\n",
       "    <tr>\n",
       "      <th>count</th>\n",
       "      <td>7.073600e+04</td>\n",
       "      <td>7.073600e+04</td>\n",
       "      <td>70736.000000</td>\n",
       "      <td>70736.000000</td>\n",
       "      <td>70736.000000</td>\n",
       "      <td>70736.000000</td>\n",
       "      <td>70736.000000</td>\n",
       "      <td>70736.000000</td>\n",
       "      <td>70736.000000</td>\n",
       "    </tr>\n",
       "    <tr>\n",
       "      <th>mean</th>\n",
       "      <td>1.482935e+14</td>\n",
       "      <td>5.675468e+06</td>\n",
       "      <td>37.196378</td>\n",
       "      <td>0.098323</td>\n",
       "      <td>0.198753</td>\n",
       "      <td>0.071958</td>\n",
       "      <td>0.030112</td>\n",
       "      <td>0.022860</td>\n",
       "      <td>0.322057</td>\n",
       "    </tr>\n",
       "    <tr>\n",
       "      <th>std</th>\n",
       "      <td>2.569717e+14</td>\n",
       "      <td>7.122233e+04</td>\n",
       "      <td>23.123724</td>\n",
       "      <td>0.297753</td>\n",
       "      <td>0.399065</td>\n",
       "      <td>0.258420</td>\n",
       "      <td>0.170897</td>\n",
       "      <td>0.164669</td>\n",
       "      <td>0.467268</td>\n",
       "    </tr>\n",
       "    <tr>\n",
       "      <th>min</th>\n",
       "      <td>9.377953e+04</td>\n",
       "      <td>5.030230e+06</td>\n",
       "      <td>0.000000</td>\n",
       "      <td>0.000000</td>\n",
       "      <td>0.000000</td>\n",
       "      <td>0.000000</td>\n",
       "      <td>0.000000</td>\n",
       "      <td>0.000000</td>\n",
       "      <td>0.000000</td>\n",
       "    </tr>\n",
       "    <tr>\n",
       "      <th>25%</th>\n",
       "      <td>3.986487e+12</td>\n",
       "      <td>5.640492e+06</td>\n",
       "      <td>18.000000</td>\n",
       "      <td>0.000000</td>\n",
       "      <td>0.000000</td>\n",
       "      <td>0.000000</td>\n",
       "      <td>0.000000</td>\n",
       "      <td>0.000000</td>\n",
       "      <td>0.000000</td>\n",
       "    </tr>\n",
       "    <tr>\n",
       "      <th>50%</th>\n",
       "      <td>3.177683e+13</td>\n",
       "      <td>5.680853e+06</td>\n",
       "      <td>37.000000</td>\n",
       "      <td>0.000000</td>\n",
       "      <td>0.000000</td>\n",
       "      <td>0.000000</td>\n",
       "      <td>0.000000</td>\n",
       "      <td>0.000000</td>\n",
       "      <td>0.000000</td>\n",
       "    </tr>\n",
       "    <tr>\n",
       "      <th>75%</th>\n",
       "      <td>9.476289e+13</td>\n",
       "      <td>5.725512e+06</td>\n",
       "      <td>56.000000</td>\n",
       "      <td>0.000000</td>\n",
       "      <td>0.000000</td>\n",
       "      <td>0.000000</td>\n",
       "      <td>0.000000</td>\n",
       "      <td>0.000000</td>\n",
       "      <td>1.000000</td>\n",
       "    </tr>\n",
       "    <tr>\n",
       "      <th>max</th>\n",
       "      <td>9.999686e+14</td>\n",
       "      <td>5.790466e+06</td>\n",
       "      <td>115.000000</td>\n",
       "      <td>1.000000</td>\n",
       "      <td>1.000000</td>\n",
       "      <td>1.000000</td>\n",
       "      <td>1.000000</td>\n",
       "      <td>4.000000</td>\n",
       "      <td>1.000000</td>\n",
       "    </tr>\n",
       "  </tbody>\n",
       "</table>\n",
       "</div>"
      ],
      "text/plain": [
       "          PatientId  AppointmentID           Age   Scholarship  Hipertension  \\\n",
       "count  7.073600e+04   7.073600e+04  70736.000000  70736.000000  70736.000000   \n",
       "mean   1.482935e+14   5.675468e+06     37.196378      0.098323      0.198753   \n",
       "std    2.569717e+14   7.122233e+04     23.123724      0.297753      0.399065   \n",
       "min    9.377953e+04   5.030230e+06      0.000000      0.000000      0.000000   \n",
       "25%    3.986487e+12   5.640492e+06     18.000000      0.000000      0.000000   \n",
       "50%    3.177683e+13   5.680853e+06     37.000000      0.000000      0.000000   \n",
       "75%    9.476289e+13   5.725512e+06     56.000000      0.000000      0.000000   \n",
       "max    9.999686e+14   5.790466e+06    115.000000      1.000000      1.000000   \n",
       "\n",
       "           Diabetes    Alcoholism       Handcap  SMS_received  \n",
       "count  70736.000000  70736.000000  70736.000000  70736.000000  \n",
       "mean       0.071958      0.030112      0.022860      0.322057  \n",
       "std        0.258420      0.170897      0.164669      0.467268  \n",
       "min        0.000000      0.000000      0.000000      0.000000  \n",
       "25%        0.000000      0.000000      0.000000      0.000000  \n",
       "50%        0.000000      0.000000      0.000000      0.000000  \n",
       "75%        0.000000      0.000000      0.000000      1.000000  \n",
       "max        1.000000      1.000000      4.000000      1.000000  "
      ]
     },
     "execution_count": 64,
     "metadata": {},
     "output_type": "execute_result"
    }
   ],
   "source": [
    "train.describe()"
   ]
  },
  {
   "cell_type": "code",
   "execution_count": 65,
   "metadata": {},
   "outputs": [
    {
     "data": {
      "text/plain": [
       "False    17685\n",
       "dtype: int64"
      ]
     },
     "execution_count": 65,
     "metadata": {},
     "output_type": "execute_result"
    }
   ],
   "source": [
    "#cerco eventuali duplicati\n",
    "train.duplicated().value_counts()\n",
    "test.duplicated().value_counts()"
   ]
  },
  {
   "cell_type": "code",
   "execution_count": 66,
   "metadata": {},
   "outputs": [],
   "source": [
    "#Divido ScheduledDay e AppointmentDay in parametri che spero essere più pratici e informativi\n",
    "train['mesePrenotazione'] = pd.to_datetime(train['ScheduledDay']).dt.month\n",
    "train['oraPrenotazione'] = pd.to_datetime(train['ScheduledDay']).dt.hour\n",
    "train['giornoSettimanaPrenotazione'] = pd.to_datetime(train['ScheduledDay']).dt.weekday\n",
    "train['meseAppuntamento'] = pd.to_datetime(train['AppointmentDay']).dt.month\n",
    "train['giornoSettimanaAppuntamento'] = pd.to_datetime(train['AppointmentDay']).dt.weekday\n",
    "train['giorniTraPrenotazioneEappuntamento'] = abs(pd.to_datetime(train['AppointmentDay']).dt.day - pd.to_datetime(train['ScheduledDay']).dt.day.astype(int))\n",
    "\n",
    "test['mesePrenotazione'] = pd.to_datetime(test['ScheduledDay']).dt.month\n",
    "test['oraPrenotazione'] = pd.to_datetime(test['ScheduledDay']).dt.hour\n",
    "test['giornoSettimanaPrenotazione'] = pd.to_datetime(test['ScheduledDay']).dt.weekday\n",
    "test['meseAppuntamento'] = pd.to_datetime(test['AppointmentDay']).dt.month\n",
    "test['giornoSettimanaAppuntamento'] = pd.to_datetime(test['AppointmentDay']).dt.weekday\n",
    "test['giorniTraPrenotazioneEappuntamento'] = abs(pd.to_datetime(test['AppointmentDay']).dt.day - pd.to_datetime(test['ScheduledDay']).dt.day.astype(int))"
   ]
  },
  {
   "cell_type": "code",
   "execution_count": 67,
   "metadata": {},
   "outputs": [],
   "source": [
    "#Divido l'età in fasce\n",
    "bin_edges = [0, 15, 30, 45, 60, 116]\n",
    "\n",
    "bin_names = ['<15', '15-29', '30-44', '45-59', '>=60']\n",
    "\n",
    "train['AgeGroup'] = pd.cut(train['Age'], bin_edges, labels=bin_names, right=False, include_lowest=True)\n",
    "test['AgeGroup'] = pd.cut(test['Age'], bin_edges, labels=bin_names, right=False, include_lowest=True)"
   ]
  },
  {
   "cell_type": "code",
   "execution_count": 68,
   "metadata": {},
   "outputs": [
    {
     "data": {
      "text/html": [
       "<div>\n",
       "<style scoped>\n",
       "    .dataframe tbody tr th:only-of-type {\n",
       "        vertical-align: middle;\n",
       "    }\n",
       "\n",
       "    .dataframe tbody tr th {\n",
       "        vertical-align: top;\n",
       "    }\n",
       "\n",
       "    .dataframe thead th {\n",
       "        text-align: right;\n",
       "    }\n",
       "</style>\n",
       "<table border=\"1\" class=\"dataframe\">\n",
       "  <thead>\n",
       "    <tr style=\"text-align: right;\">\n",
       "      <th></th>\n",
       "      <th>No-show</th>\n",
       "      <th>PatientId</th>\n",
       "      <th>AppointmentID</th>\n",
       "      <th>Gender</th>\n",
       "      <th>ScheduledDay</th>\n",
       "      <th>AppointmentDay</th>\n",
       "      <th>Age</th>\n",
       "      <th>Neighbourhood</th>\n",
       "      <th>Scholarship</th>\n",
       "      <th>Hipertension</th>\n",
       "      <th>...</th>\n",
       "      <th>Handcap</th>\n",
       "      <th>SMS_received</th>\n",
       "      <th>mesePrenotazione</th>\n",
       "      <th>oraPrenotazione</th>\n",
       "      <th>giornoSettimanaPrenotazione</th>\n",
       "      <th>meseAppuntamento</th>\n",
       "      <th>giornoSettimanaAppuntamento</th>\n",
       "      <th>giorniTraPrenotazioneEappuntamento</th>\n",
       "      <th>AgeGroup</th>\n",
       "      <th>fasceGiorniAttesa</th>\n",
       "    </tr>\n",
       "  </thead>\n",
       "  <tbody>\n",
       "    <tr>\n",
       "      <th>0</th>\n",
       "      <td>No</td>\n",
       "      <td>5.554332e+13</td>\n",
       "      <td>5686868</td>\n",
       "      <td>F</td>\n",
       "      <td>2016-05-11T14:12:13Z</td>\n",
       "      <td>2016-05-13T00:00:00Z</td>\n",
       "      <td>55</td>\n",
       "      <td>JARDIM CAMBURI</td>\n",
       "      <td>0</td>\n",
       "      <td>0</td>\n",
       "      <td>...</td>\n",
       "      <td>0</td>\n",
       "      <td>0</td>\n",
       "      <td>5</td>\n",
       "      <td>14</td>\n",
       "      <td>2</td>\n",
       "      <td>5</td>\n",
       "      <td>4</td>\n",
       "      <td>2</td>\n",
       "      <td>45-59</td>\n",
       "      <td>1</td>\n",
       "    </tr>\n",
       "    <tr>\n",
       "      <th>1</th>\n",
       "      <td>No</td>\n",
       "      <td>4.955162e+14</td>\n",
       "      <td>5668152</td>\n",
       "      <td>F</td>\n",
       "      <td>2016-05-06T08:34:32Z</td>\n",
       "      <td>2016-05-06T00:00:00Z</td>\n",
       "      <td>47</td>\n",
       "      <td>RESISTÊNCIA</td>\n",
       "      <td>0</td>\n",
       "      <td>0</td>\n",
       "      <td>...</td>\n",
       "      <td>0</td>\n",
       "      <td>0</td>\n",
       "      <td>5</td>\n",
       "      <td>8</td>\n",
       "      <td>4</td>\n",
       "      <td>5</td>\n",
       "      <td>4</td>\n",
       "      <td>0</td>\n",
       "      <td>45-59</td>\n",
       "      <td>0</td>\n",
       "    </tr>\n",
       "    <tr>\n",
       "      <th>2</th>\n",
       "      <td>No</td>\n",
       "      <td>5.541574e+13</td>\n",
       "      <td>5751493</td>\n",
       "      <td>F</td>\n",
       "      <td>2016-05-31T10:13:24Z</td>\n",
       "      <td>2016-05-31T00:00:00Z</td>\n",
       "      <td>56</td>\n",
       "      <td>JESUS DE NAZARETH</td>\n",
       "      <td>1</td>\n",
       "      <td>1</td>\n",
       "      <td>...</td>\n",
       "      <td>0</td>\n",
       "      <td>0</td>\n",
       "      <td>5</td>\n",
       "      <td>10</td>\n",
       "      <td>1</td>\n",
       "      <td>5</td>\n",
       "      <td>1</td>\n",
       "      <td>0</td>\n",
       "      <td>45-59</td>\n",
       "      <td>0</td>\n",
       "    </tr>\n",
       "    <tr>\n",
       "      <th>3</th>\n",
       "      <td>No</td>\n",
       "      <td>7.445846e+11</td>\n",
       "      <td>5732987</td>\n",
       "      <td>F</td>\n",
       "      <td>2016-05-24T13:07:59Z</td>\n",
       "      <td>2016-06-01T00:00:00Z</td>\n",
       "      <td>66</td>\n",
       "      <td>SÃO PEDRO</td>\n",
       "      <td>0</td>\n",
       "      <td>0</td>\n",
       "      <td>...</td>\n",
       "      <td>1</td>\n",
       "      <td>1</td>\n",
       "      <td>5</td>\n",
       "      <td>13</td>\n",
       "      <td>1</td>\n",
       "      <td>6</td>\n",
       "      <td>2</td>\n",
       "      <td>23</td>\n",
       "      <td>&gt;=60</td>\n",
       "      <td>5</td>\n",
       "    </tr>\n",
       "    <tr>\n",
       "      <th>4</th>\n",
       "      <td>No</td>\n",
       "      <td>5.395177e+13</td>\n",
       "      <td>5575893</td>\n",
       "      <td>F</td>\n",
       "      <td>2016-04-13T07:42:07Z</td>\n",
       "      <td>2016-05-13T00:00:00Z</td>\n",
       "      <td>0</td>\n",
       "      <td>JABOUR</td>\n",
       "      <td>0</td>\n",
       "      <td>0</td>\n",
       "      <td>...</td>\n",
       "      <td>0</td>\n",
       "      <td>0</td>\n",
       "      <td>4</td>\n",
       "      <td>7</td>\n",
       "      <td>2</td>\n",
       "      <td>5</td>\n",
       "      <td>4</td>\n",
       "      <td>0</td>\n",
       "      <td>&lt;15</td>\n",
       "      <td>0</td>\n",
       "    </tr>\n",
       "  </tbody>\n",
       "</table>\n",
       "<p>5 rows × 22 columns</p>\n",
       "</div>"
      ],
      "text/plain": [
       "  No-show     PatientId  AppointmentID Gender          ScheduledDay  \\\n",
       "0      No  5.554332e+13        5686868      F  2016-05-11T14:12:13Z   \n",
       "1      No  4.955162e+14        5668152      F  2016-05-06T08:34:32Z   \n",
       "2      No  5.541574e+13        5751493      F  2016-05-31T10:13:24Z   \n",
       "3      No  7.445846e+11        5732987      F  2016-05-24T13:07:59Z   \n",
       "4      No  5.395177e+13        5575893      F  2016-04-13T07:42:07Z   \n",
       "\n",
       "         AppointmentDay  Age      Neighbourhood  Scholarship  Hipertension  \\\n",
       "0  2016-05-13T00:00:00Z   55     JARDIM CAMBURI            0             0   \n",
       "1  2016-05-06T00:00:00Z   47        RESISTÊNCIA            0             0   \n",
       "2  2016-05-31T00:00:00Z   56  JESUS DE NAZARETH            1             1   \n",
       "3  2016-06-01T00:00:00Z   66          SÃO PEDRO            0             0   \n",
       "4  2016-05-13T00:00:00Z    0             JABOUR            0             0   \n",
       "\n",
       "   ...  Handcap  SMS_received  mesePrenotazione  oraPrenotazione  \\\n",
       "0  ...        0             0                 5               14   \n",
       "1  ...        0             0                 5                8   \n",
       "2  ...        0             0                 5               10   \n",
       "3  ...        1             1                 5               13   \n",
       "4  ...        0             0                 4                7   \n",
       "\n",
       "   giornoSettimanaPrenotazione  meseAppuntamento  giornoSettimanaAppuntamento  \\\n",
       "0                            2                 5                            4   \n",
       "1                            4                 5                            4   \n",
       "2                            1                 5                            1   \n",
       "3                            1                 6                            2   \n",
       "4                            2                 5                            4   \n",
       "\n",
       "   giorniTraPrenotazioneEappuntamento  AgeGroup  fasceGiorniAttesa  \n",
       "0                                   2     45-59                  1  \n",
       "1                                   0     45-59                  0  \n",
       "2                                   0     45-59                  0  \n",
       "3                                  23      >=60                  5  \n",
       "4                                   0       <15                  0  \n",
       "\n",
       "[5 rows x 22 columns]"
      ]
     },
     "execution_count": 68,
     "metadata": {},
     "output_type": "execute_result"
    }
   ],
   "source": [
    "#Divido i giorni tra prenotazione e appuntamento in fasce\n",
    "bin_edges = [0, 1, 3, 7, 14, 21, 31]\n",
    "\n",
    "bin_names = [0, 1, 2, 3, 4, 5]\n",
    "\n",
    "train['fasceGiorniAttesa'] = pd.cut(train['giorniTraPrenotazioneEappuntamento'], bin_edges, labels=bin_names, right=False, include_lowest=True)\n",
    "test['fasceGiorniAttesa'] = pd.cut(test['giorniTraPrenotazioneEappuntamento'], bin_edges, labels=bin_names, right=False, include_lowest=True)\n",
    "\n",
    "train.head()"
   ]
  },
  {
   "cell_type": "code",
   "execution_count": 69,
   "metadata": {},
   "outputs": [
    {
     "name": "stdout",
     "output_type": "stream",
     "text": [
      "No-show - ['No' 'Yes']\n",
      "Gender - ['F' 'M']\n",
      "Age - [ 55  47  56  66   0  16  46  19  29  35  40  20  54  73  38   8  59   2\n",
      "   7  63  17  44  48  39  76  30  13  12  78  45  58  52  28  67  53  61\n",
      "  65  24  68   5  43   3  34  84  49  89  81  69  27  37   1  41   9  11\n",
      "  18  42  75  36  57  22   4  70  51  50  14  33  31   6  64  26  83  62\n",
      "  23  71  79  21  32  10  77  60  74  72  86  25  15  82  91  87  92  90\n",
      "  80  85  88  99  95  94  97  96  93  98 102 115 100]\n",
      "Neighbourhood - ['JARDIM CAMBURI' 'RESISTÊNCIA' 'JESUS DE NAZARETH' 'SÃO PEDRO' 'JABOUR'\n",
      " 'NOVA PALESTINA' 'GRANDE VITÓRIA' 'SÃO CRISTÓVÃO' 'SANTO ANDRÉ'\n",
      " 'FORTE SÃO JOÃO' 'CRUZAMENTO' 'JARDIM DA PENHA' 'TABUAZEIRO' 'CENTRO'\n",
      " 'ROMÃO' 'INHANGUETÁ' 'REPÚBLICA' 'ANDORINHAS' 'SANTA MARTHA'\n",
      " 'MATA DA PRAIA' 'SANTOS REIS' 'SOLON BORGES' 'ILHA DE SANTA MARIA'\n",
      " 'CARATOÍRA' 'GURIGICA' 'MARIA ORTIZ' 'BELA VISTA' 'SÃO JOSÉ' 'DA PENHA'\n",
      " 'PRAIA DO SUÁ' 'FONTE GRANDE' 'SANTOS DUMONT' 'SÃO BENEDITO' 'ESTRELINHA'\n",
      " 'SANTA TEREZA' 'MARUÍPE' 'PIEDADE' 'BONFIM' 'MONTE BELO' 'VILA RUBIM'\n",
      " 'DO CABRAL' 'ILHA DO PRÍNCIPE' 'DO MOSCOSO' 'DO QUADRO' 'SANTA CLARA'\n",
      " 'PRAIA DO CANTO' 'ITARARÉ' 'SANTO ANTÔNIO' 'JOANA D´ARC' 'NAZARETH'\n",
      " 'BENTO FERREIRA' 'ILHA DAS CAIEIRAS' 'FRADINHOS' 'REDENÇÃO' 'SANTA LÚCIA'\n",
      " 'JUCUTUQUARA' 'MÁRIO CYPRESTE' 'ARIOVALDO FAVALESSA' 'PARQUE MOSCOSO'\n",
      " 'CONSOLAÇÃO' 'SANTA HELENA' 'COMDUSA' 'GOIABEIRAS' 'UNIVERSITÁRIO'\n",
      " 'MORADA DE CAMBURI' 'SANTA LUÍZA' 'ENSEADA DO SUÁ' 'DE LOURDES'\n",
      " 'SANTA CECÍLIA' 'HORTO' 'CONQUISTA' 'SEGURANÇA DO LAR' 'ANTÔNIO HONÓRIO'\n",
      " 'BOA VISTA' 'PONTAL DE CAMBURI' 'BARRO VERMELHO' 'ILHA DO BOI'\n",
      " 'ILHA DO FRADE' 'AEROPORTO' 'ILHAS OCEÂNICAS DE TRINDADE']\n",
      "Scholarship - [0 1]\n",
      "Hipertension - [0 1]\n",
      "Diabetes - [0 1]\n",
      "Alcoholism - [0 1]\n",
      "Handcap - [0 1 2 3 4]\n",
      "SMS_received - [0 1]\n",
      "mesePrenotazione - [ 5  4  6  3  2 12  1 11]\n",
      "oraPrenotazione - [14  8 10 13  7 15 11  6  9 12 17 16 19 18 20 21]\n",
      "giornoSettimanaPrenotazione - [2 4 1 3 0 5]\n",
      "meseAppuntamento - [5 6 4]\n",
      "giornoSettimanaAppuntamento - [4 1 2 0 3 5]\n",
      "giorniTraPrenotazioneEappuntamento - [ 2  0 23 20  7  6 13  4  1 10 19 21  5 15 26 16 25 18  8 22 11  3  9 28\n",
      " 24 29 30 14 17 12 27]\n",
      "AgeGroup - [45-59, >=60, <15, 15-29, 30-44]\n",
      "Categories (5, object): [<15 < 15-29 < 30-44 < 45-59 < >=60]\n",
      "fasceGiorniAttesa - [1, 0, 5, 4, 3, 2]\n",
      "Categories (6, int64): [0 < 1 < 2 < 3 < 4 < 5]\n"
     ]
    }
   ],
   "source": [
    "#Controllo quanti elementi unici ho per tutte le features esclusi gli Id e i giorni rimpiazzati\n",
    "colonne = train.drop(['PatientId','AppointmentID','ScheduledDay','AppointmentDay'],axis=1)\n",
    "for col in colonne.columns:\n",
    "  print(col, \"-\", train[col].unique())"
   ]
  },
  {
   "cell_type": "code",
   "execution_count": 70,
   "metadata": {},
   "outputs": [
    {
     "data": {
      "text/plain": [
       "0.19226419362135264"
      ]
     },
     "execution_count": 70,
     "metadata": {},
     "output_type": "execute_result"
    }
   ],
   "source": [
    "h = train.Handcap.value_counts()\n",
    "total = h[2] + h[3] + h[4]\n",
    "(total/train.Handcap.count())*100"
   ]
  },
  {
   "cell_type": "code",
   "execution_count": 71,
   "metadata": {},
   "outputs": [
    {
     "data": {
      "text/plain": [
       "array([0, 1])"
      ]
     },
     "execution_count": 71,
     "metadata": {},
     "output_type": "execute_result"
    }
   ],
   "source": [
    "# Rimuovo gli handicap 2, 3 e 4 perché praticamente assenti di valori\n",
    "\n",
    "hdt = train.query('Handcap == 2 | Handcap == 3 | Handcap == 4').Handcap\n",
    "hdtt = test.query('Handcap == 2 | Handcap == 3 | Handcap == 4').Handcap\n",
    "\n",
    "train.drop(hdt.index, inplace=True)\n",
    "test.drop(hdtt.index, inplace=True)\n",
    "\n",
    "train.Handcap.unique()"
   ]
  },
  {
   "cell_type": "code",
   "execution_count": 72,
   "metadata": {},
   "outputs": [
    {
     "name": "stdout",
     "output_type": "stream",
     "text": [
      "Neighbourhood \n",
      " MARIA ORTIZ            131\n",
      "JARDIM CAMBURI         112\n",
      "RESISTÊNCIA             95\n",
      "ITARARÉ                 61\n",
      "CENTRO                  53\n",
      "                      ... \n",
      "MORADA DE CAMBURI        2\n",
      "COMDUSA                  1\n",
      "UNIVERSITÁRIO            1\n",
      "ILHA DO FRADE            1\n",
      "ARIOVALDO FAVALESSA      1\n",
      "Name: Neighbourhood, Length: 76, dtype: int64\n",
      "mesePrenotazione \n",
      " 4    683\n",
      "5    603\n",
      "3    109\n",
      "6     67\n",
      "2      6\n",
      "1      1\n",
      "Name: mesePrenotazione, dtype: int64\n",
      "oraPrenotazione \n",
      " 8     185\n",
      "7     172\n",
      "9     166\n",
      "10    155\n",
      "14    149\n",
      "15    147\n",
      "13    133\n",
      "11    112\n",
      "16     87\n",
      "12     64\n",
      "17     48\n",
      "18     24\n",
      "6      15\n",
      "19      9\n",
      "20      3\n",
      "Name: oraPrenotazione, dtype: int64\n",
      "giornoSettimanaPrenotazione \n",
      " 1    343\n",
      "4    315\n",
      "2    298\n",
      "0    257\n",
      "3    256\n",
      "Name: giornoSettimanaPrenotazione, dtype: int64\n",
      "meseAppuntamento \n",
      " 5    968\n",
      "6    446\n",
      "4     55\n",
      "Name: meseAppuntamento, dtype: int64\n",
      "giornoSettimanaAppuntamento \n",
      " 1    392\n",
      "2    375\n",
      "0    312\n",
      "3    218\n",
      "4    172\n",
      "Name: giornoSettimanaAppuntamento, dtype: int64\n",
      "giorniTraPrenotazioneEappuntamento \n",
      " 4     118\n",
      "5      98\n",
      "6      76\n",
      "7      75\n",
      "3      65\n",
      "23     63\n",
      "16     63\n",
      "2      61\n",
      "11     61\n",
      "14     60\n",
      "10     56\n",
      "22     51\n",
      "1      48\n",
      "18     47\n",
      "26     46\n",
      "8      45\n",
      "9      44\n",
      "12     43\n",
      "13     42\n",
      "24     40\n",
      "21     37\n",
      "17     36\n",
      "25     35\n",
      "15     32\n",
      "27     31\n",
      "19     30\n",
      "0      21\n",
      "20     21\n",
      "28     18\n",
      "29      6\n",
      "Name: giorniTraPrenotazioneEappuntamento, dtype: int64\n",
      "AgeGroup \n",
      " <15      575\n",
      "30-44    324\n",
      "15-29    310\n",
      "45-59    155\n",
      ">=60     105\n",
      "Name: AgeGroup, dtype: int64\n",
      "fasceGiorniAttesa \n",
      " 3    366\n",
      "2    357\n",
      "5    327\n",
      "4    289\n",
      "1    109\n",
      "0     21\n",
      "Name: fasceGiorniAttesa, dtype: int64\n"
     ]
    }
   ],
   "source": [
    "#Questa cella e la successiva mi sono servite per cercare le dipendenze tra le varie features\n",
    "a = train.drop([\"ScheduledDay\",\"AppointmentDay\",\"AppointmentID\",\"Age\",\"PatientId\"],axis=1)\n",
    "a.rename(columns={'No-show':'no_show'}, inplace=True)\n",
    "class_mapping={'No': 0, 'Yes': 1}\n",
    "a['no_show'] = a['no_show'].map(class_mapping)\n",
    "class_mapping2={'F': 0, 'M': 1}\n",
    "a['Gender'] = a['Gender'].map(class_mapping2)\n",
    "a = a.query(\"no_show == 1\")\n",
    "a = a.query(\"SMS_received == 1\")\n",
    "a = a.query(\"Alcoholism == 0\")\n",
    "a = a.query(\"Handcap == 0\")\n",
    "a = a.query(\"Diabetes == 0\")\n",
    "a = a.query(\"Hipertension == 0\")\n",
    "a = a.query(\"Scholarship == 0\")\n",
    "a = a.query(\"Gender == 1\")\n",
    "for c in a.drop([\"no_show\",'SMS_received','Handcap','Diabetes','Hipertension','Scholarship','Gender','Alcoholism'],axis=1).columns:\n",
    "  print(c,\"\\n\", a[c].value_counts())"
   ]
  },
  {
   "cell_type": "code",
   "execution_count": 73,
   "metadata": {},
   "outputs": [
    {
     "name": "stdout",
     "output_type": "stream",
     "text": [
      "Neighbourhood \n",
      " JARDIM CAMBURI       320\n",
      "MARIA ORTIZ          291\n",
      "RESISTÊNCIA          164\n",
      "CENTRO               139\n",
      "JARDIM DA PENHA      138\n",
      "                    ... \n",
      "MORADA DE CAMBURI      2\n",
      "SANTA HELENA           1\n",
      "HORTO                  1\n",
      "UNIVERSITÁRIO          1\n",
      "ILHA DO BOI            1\n",
      "Name: Neighbourhood, Length: 78, dtype: int64\n",
      "mesePrenotazione \n",
      " 5    1756\n",
      "4    1547\n",
      "3     233\n",
      "6     221\n",
      "2      27\n",
      "1       2\n",
      "Name: mesePrenotazione, dtype: int64\n",
      "oraPrenotazione \n",
      " 7     577\n",
      "8     485\n",
      "10    420\n",
      "9     413\n",
      "14    335\n",
      "13    334\n",
      "15    298\n",
      "11    279\n",
      "16    213\n",
      "12    176\n",
      "17    117\n",
      "18     66\n",
      "6      48\n",
      "19     19\n",
      "20      6\n",
      "Name: oraPrenotazione, dtype: int64\n",
      "giornoSettimanaPrenotazione \n",
      " 2    845\n",
      "1    804\n",
      "4    762\n",
      "0    691\n",
      "3    684\n",
      "Name: giornoSettimanaPrenotazione, dtype: int64\n",
      "meseAppuntamento \n",
      " 5    2429\n",
      "6    1222\n",
      "4     135\n",
      "Name: meseAppuntamento, dtype: int64\n",
      "giornoSettimanaAppuntamento \n",
      " 1    1047\n",
      "2     993\n",
      "0     758\n",
      "3     558\n",
      "4     430\n",
      "Name: giornoSettimanaAppuntamento, dtype: int64\n",
      "giorniTraPrenotazioneEappuntamento \n",
      " 4     299\n",
      "6     283\n",
      "5     276\n",
      "7     218\n",
      "23    191\n",
      "3     158\n",
      "24    149\n",
      "10    145\n",
      "26    140\n",
      "14    138\n",
      "17    132\n",
      "1     131\n",
      "2     116\n",
      "9     115\n",
      "22    105\n",
      "8     103\n",
      "16    101\n",
      "18     97\n",
      "13     96\n",
      "12     94\n",
      "11     93\n",
      "21     93\n",
      "25     93\n",
      "19     84\n",
      "15     77\n",
      "27     65\n",
      "28     65\n",
      "20     61\n",
      "0      53\n",
      "29     15\n",
      "Name: giorniTraPrenotazioneEappuntamento, dtype: int64\n",
      "AgeGroup \n",
      " <15      1436\n",
      "45-59     642\n",
      "30-44     636\n",
      "15-29     592\n",
      ">=60      480\n",
      "Name: AgeGroup, dtype: int64\n",
      "fasceGiorniAttesa \n",
      " 2    1016\n",
      "5     916\n",
      "3     864\n",
      "4     690\n",
      "1     247\n",
      "0      53\n",
      "Name: fasceGiorniAttesa, dtype: int64\n"
     ]
    }
   ],
   "source": [
    "b = train.drop([\"ScheduledDay\",\"AppointmentDay\",\"AppointmentID\",\"Age\",\"PatientId\"],axis=1)\n",
    "b.rename(columns={'No-show':'no_show'}, inplace=True)\n",
    "b['no_show'] = b['no_show'].map(class_mapping)\n",
    "b['Gender'] = b['Gender'].map(class_mapping2)\n",
    "b = b.query(\"no_show == 0\")\n",
    "b = b.query(\"SMS_received == 1\")\n",
    "b = b.query(\"Alcoholism == 0\")\n",
    "b = b.query(\"Handcap == 0\")\n",
    "b = b.query(\"Diabetes == 0\")\n",
    "b = b.query(\"Hipertension == 0\")\n",
    "b = b.query(\"Scholarship == 0\")\n",
    "b = b.query(\"Gender == 1\")\n",
    "for c in b.drop([\"no_show\",'SMS_received','Handcap','Diabetes','Hipertension','Scholarship','Gender','Alcoholism'],axis=1).columns:\n",
    "  print(c,\"\\n\", b[c].value_counts())"
   ]
  },
  {
   "cell_type": "code",
   "execution_count": 74,
   "metadata": {},
   "outputs": [
    {
     "data": {
      "image/png": "[encoded data removed]",
      "text/plain": [
       "<Figure size 432x216 with 2 Axes>"
      ]
     },
     "metadata": {
      "needs_background": "light"
     },
     "output_type": "display_data"
    },
    {
     "data": {
      "image/png": "[encoded data removed]",
      "text/plain": [
       "<Figure size 432x216 with 2 Axes>"
      ]
     },
     "metadata": {
      "needs_background": "light"
     },
     "output_type": "display_data"
    },
    {
     "data": {
      "image/png": "[encoded data removed]",
      "text/plain": [
       "<Figure size 432x216 with 2 Axes>"
      ]
     },
     "metadata": {
      "needs_background": "light"
     },
     "output_type": "display_data"
    },
    {
     "data": {
      "image/png": "[encoded data removed]",
      "text/plain": [
       "<Figure size 432x216 with 2 Axes>"
      ]
     },
     "metadata": {
      "needs_background": "light"
     },
     "output_type": "display_data"
    },
    {
     "data": {
      "image/png": "[encoded data removed]",
      "text/plain": [
       "<Figure size 432x216 with 2 Axes>"
      ]
     },
     "metadata": {
      "needs_background": "light"
     },
     "output_type": "display_data"
    },
    {
     "data": {
      "image/png": "[encoded data removed]",
      "text/plain": [
       "<Figure size 432x216 with 2 Axes>"
      ]
     },
     "metadata": {
      "needs_background": "light"
     },
     "output_type": "display_data"
    },
    {
     "data": {
      "image/png": "[encoded data removed]",
      "text/plain": [
       "<Figure size 432x216 with 2 Axes>"
      ]
     },
     "metadata": {
      "needs_background": "light"
     },
     "output_type": "display_data"
    },
    {
     "data": {
      "image/png": "[encoded data removed]",
      "text/plain": [
       "<Figure size 432x216 with 2 Axes>"
      ]
     },
     "metadata": {
      "needs_background": "light"
     },
     "output_type": "display_data"
    },
    {
     "data": {
      "image/png": "[encoded data removed]",
      "text/plain": [
       "<Figure size 432x216 with 2 Axes>"
      ]
     },
     "metadata": {
      "needs_background": "light"
     },
     "output_type": "display_data"
    },
    {
     "data": {
      "image/png": "[encoded data removed]",
      "text/plain": [
       "<Figure size 432x216 with 2 Axes>"
      ]
     },
     "metadata": {
      "needs_background": "light"
     },
     "output_type": "display_data"
    },
    {
     "data": {
      "image/png": "[encoded data removed]",
      "text/plain": [
       "<Figure size 432x216 with 2 Axes>"
      ]
     },
     "metadata": {
      "needs_background": "light"
     },
     "output_type": "display_data"
    },
    {
     "data": {
      "image/png": "[encoded data removed]",
      "text/plain": [
       "<Figure size 432x216 with 2 Axes>"
      ]
     },
     "metadata": {
      "needs_background": "light"
     },
     "output_type": "display_data"
    },
    {
     "data": {
      "image/png": "[encoded data removed]",
      "text/plain": [
       "<Figure size 432x216 with 2 Axes>"
      ]
     },
     "metadata": {
      "needs_background": "light"
     },
     "output_type": "display_data"
    },
    {
     "data": {
      "image/png": "[encoded data removed]",
      "text/plain": [
       "<Figure size 432x216 with 2 Axes>"
      ]
     },
     "metadata": {
      "needs_background": "light"
     },
     "output_type": "display_data"
    },
    {
     "data": {
      "image/png": "[encoded data removed]",
      "text/plain": [
       "<Figure size 432x216 with 2 Axes>"
      ]
     },
     "metadata": {
      "needs_background": "light"
     },
     "output_type": "display_data"
    },
    {
     "data": {
      "image/png": "[encoded data removed]",
      "text/plain": [
       "<Figure size 432x216 with 2 Axes>"
      ]
     },
     "metadata": {
      "needs_background": "light"
     },
     "output_type": "display_data"
    },
    {
     "data": {
      "image/png": "[encoded data removed]",
      "text/plain": [
       "<Figure size 432x216 with 2 Axes>"
      ]
     },
     "metadata": {
      "needs_background": "light"
     },
     "output_type": "display_data"
    }
   ],
   "source": [
    "#Mi sono plottato grafici su varie colonne (non solo su No-show, ma non sono mostrate) per controllare come venissero influenzate dalle altre features\n",
    "for c in train.drop([\"ScheduledDay\",\"AppointmentDay\",\"AppointmentID\",\"Age\",\"PatientId\"],axis=1).columns:\n",
    "    fighist = sns.FacetGrid(train, col = 'No-show')\n",
    "    fighist.map(plt.hist, c, bins=20)"
   ]
  },
  {
   "cell_type": "code",
   "execution_count": 75,
   "metadata": {},
   "outputs": [
    {
     "name": "stdout",
     "output_type": "stream",
     "text": [
      "<class 'pandas.core.frame.DataFrame'>\n",
      "Int64Index: 70600 entries, 0 to 70735\n",
      "Data columns (total 7 columns):\n",
      " #   Column                       Non-Null Count  Dtype\n",
      "---  ------                       --------------  -----\n",
      " 0   Gender                       70600 non-null  int64\n",
      " 1   Alcoholism                   70600 non-null  int64\n",
      " 2   SMS_received                 70600 non-null  int64\n",
      " 3   giornoSettimanaPrenotazione  70600 non-null  int64\n",
      " 4   giornoSettimanaAppuntamento  70600 non-null  int64\n",
      " 5   AgeGroup                     70600 non-null  int64\n",
      " 6   fasceGiorniAttesa            70600 non-null  int64\n",
      "dtypes: int64(7)\n",
      "memory usage: 4.3 MB\n"
     ]
    }
   ],
   "source": [
    "#Transformo le features scelte in interi e divido train e test in X_train, X_test, y_train e y_test\n",
    "CodificatoreX = LabelEncoder()\n",
    "\n",
    "class_mapping={'No': 0, 'Yes': 1}\n",
    "y_train = train['No-show'].map(class_mapping)\n",
    "y_test = test['No-show'].map(class_mapping)\n",
    "\n",
    "class_mapping2={'<15':1, '15-29':0, '30-44':2, '45-59':3, '>=60':4}\n",
    "train['AgeGroup'] = train['AgeGroup'].map(class_mapping2)\n",
    "test['AgeGroup'] = test['AgeGroup'].map(class_mapping2)\n",
    "\n",
    "X_train = train.drop(['No-show','AppointmentID','ScheduledDay','AppointmentDay','Age','Neighbourhood','Hipertension','Diabetes','Handcap','PatientId','Scholarship','mesePrenotazione','meseAppuntamento','oraPrenotazione','giorniTraPrenotazioneEappuntamento'],axis=1)\n",
    "X_test = test.drop(['No-show','AppointmentID','ScheduledDay','AppointmentDay','Age','Neighbourhood','Hipertension','Diabetes','Handcap','PatientId','Scholarship','mesePrenotazione','meseAppuntamento','oraPrenotazione','giorniTraPrenotazioneEappuntamento'],axis=1)\n",
    "\n",
    "for columns in X_train.columns:\n",
    "    X_train[columns] = CodificatoreX.fit_transform(X_train[columns])\n",
    "X_train.info()"
   ]
  },
  {
   "cell_type": "code",
   "execution_count": 76,
   "metadata": {},
   "outputs": [
    {
     "name": "stdout",
     "output_type": "stream",
     "text": [
      "<class 'pandas.core.frame.DataFrame'>\n",
      "Int64Index: 17658 entries, 0 to 17684\n",
      "Data columns (total 7 columns):\n",
      " #   Column                       Non-Null Count  Dtype\n",
      "---  ------                       --------------  -----\n",
      " 0   Gender                       17658 non-null  int64\n",
      " 1   Alcoholism                   17658 non-null  int64\n",
      " 2   SMS_received                 17658 non-null  int64\n",
      " 3   giornoSettimanaPrenotazione  17658 non-null  int64\n",
      " 4   giornoSettimanaAppuntamento  17658 non-null  int64\n",
      " 5   AgeGroup                     17658 non-null  int64\n",
      " 6   fasceGiorniAttesa            17658 non-null  int64\n",
      "dtypes: int64(7)\n",
      "memory usage: 1.1 MB\n"
     ]
    }
   ],
   "source": [
    "for columns in X_test.columns:\n",
    "    X_test[columns] = CodificatoreX.fit_transform(X_test[columns])\n",
    "X_test.info()"
   ]
  },
  {
   "cell_type": "code",
   "execution_count": 77,
   "metadata": {},
   "outputs": [
    {
     "name": "stdout",
     "output_type": "stream",
     "text": [
      "ACCURACY: 79.17%\n"
     ]
    }
   ],
   "source": [
    "#Ho testato anche con LogisticRegression e DecisionTreeClassifier, ma non li mostro perché hanno dato risultati peggiori con le features scelte\n",
    "from sklearn.neighbors import KNeighborsClassifier\n",
    "knn = KNeighborsClassifier(n_neighbors=100)\n",
    "knn.fit(X_train, y_train)\n",
    "print(\"ACCURACY: {}%\".format(round(knn.score(X_test.values,y_test.values)*100,2)))"
   ]
  },
  {
   "cell_type": "code",
   "execution_count": 78,
   "metadata": {},
   "outputs": [
    {
     "data": {
      "image/png": "[encoded data removed]",
      "text/plain": [
       "<Figure size 432x288 with 2 Axes>"
      ]
     },
     "metadata": {
      "needs_background": "light"
     },
     "output_type": "display_data"
    }
   ],
   "source": [
    "plot_confusion_matrix(knn, X_test.values, y_test.values, display_labels=[\"No\",\"Yes\"])\n",
    "plt.show()"
   ]
  }
 ],
 "metadata": {
  "kernelspec": {
   "display_name": "Python 3",
   "language": "python",
   "name": "python3"
  },
  "language_info": {
   "codemirror_mode": {
    "name": "ipython",
    "version": 3
   },
   "file_extension": ".py",
   "mimetype": "text/x-python",
   "name": "python",
   "nbconvert_exporter": "python",
   "pygments_lexer": "ipython3",
   "version": "3.7.6"
  }
 },
 "nbformat": 4,
 "nbformat_minor": 4
}
